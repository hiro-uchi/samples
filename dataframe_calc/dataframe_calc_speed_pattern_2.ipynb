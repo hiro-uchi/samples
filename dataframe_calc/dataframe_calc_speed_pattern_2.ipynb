{
 "cells": [
  {
   "cell_type": "code",
   "execution_count": 1,
   "metadata": {},
   "outputs": [],
   "source": [
    "import numpy as np\n",
    "import pandas as pd\n",
    "import matplotlib.pyplot as plt\n",
    "plt.style.use('ggplot')\n",
    "\n",
    "import japanize_matplotlib\n",
    "\n",
    "import time"
   ]
  },
  {
   "cell_type": "code",
   "execution_count": 2,
   "metadata": {},
   "outputs": [],
   "source": [
    "def compare_processing_time(n_data, n_cols):\n",
    "    \n",
    "    a = np.random.randn(n_data, n_cols) # 正規分布\n",
    "    b = np.random.randn(n_data, n_cols) # 正規分布\n",
    "    c = np.random.randint(low=0, high=10, size=(n_data, n_cols))\n",
    "    \n",
    "    # DataFame化\n",
    "    cols = ['col_{}'.format(k) for k in range(0, n_cols)]\n",
    "\n",
    "    # 処理時間比較用\n",
    "    elt = []\n",
    "    \n",
    "    # (a) 列方向にループ\n",
    "    df_a = pd.DataFrame(a, columns=cols)\n",
    "    df_b = pd.DataFrame(b, columns=cols)\n",
    "    df_c = pd.DataFrame(c, columns=cols)\n",
    "\n",
    "    start = time.time()\n",
    "    for _col in cols:\n",
    "        df_a[_col] = (df_a[_col] + df_b[_col]) / df_c[_col]\n",
    "\n",
    "    et = time.time() - start\n",
    "    elt.append(et)\n",
    "#    print('(a)')\n",
    "#    print(df_a.head())\n",
    "    \n",
    "    # (b) DataFrameどうしで一括計算\n",
    "    df_a = pd.DataFrame(a, columns=cols)\n",
    "    df_b = pd.DataFrame(b, columns=cols)\n",
    "    df_c = pd.DataFrame(c, columns=cols)\n",
    "\n",
    "    start = time.time()\n",
    "    df_d = (df_a + df_b) / df_c\n",
    "\n",
    "    et = time.time() - start\n",
    "    elt.append(et)\n",
    "    \n",
    "    return elt"
   ]
  },
  {
   "cell_type": "code",
   "execution_count": 3,
   "metadata": {},
   "outputs": [
    {
     "name": "stdout",
     "output_type": "stream",
     "text": [
      "n_data=10\n",
      "n_data=100\n",
      "n_data=1000\n",
      "n_data=2000\n",
      "n_data=3000\n",
      "n_data=5000\n",
      "n_data=10000\n"
     ]
    }
   ],
   "source": [
    "n_data_list =[10, 100, 1_000, 2_000, 3_000, 5_000, 10_000,]\n",
    "n_cols = 10_000\n",
    "\n",
    "elt = []\n",
    "for n_data in n_data_list:\n",
    "    print(f'n_data={n_data}')\n",
    "    _elt = compare_processing_time(n_data, n_cols)\n",
    "    elt.append(_elt)\n",
    "    \n",
    "elt = pd.DataFrame(np.array(elt), columns=['pattern_A', 'pattern_B'])"
   ]
  },
  {
   "cell_type": "code",
   "execution_count": 4,
   "metadata": {},
   "outputs": [],
   "source": [
    "elt['ratio'] = elt['pattern_A'] / elt['pattern_B']\n",
    "elt['n_data'] = n_data_list"
   ]
  },
  {
   "cell_type": "code",
   "execution_count": 5,
   "metadata": {},
   "outputs": [
    {
     "data": {
      "text/html": [
       "<div>\n",
       "<style scoped>\n",
       "    .dataframe tbody tr th:only-of-type {\n",
       "        vertical-align: middle;\n",
       "    }\n",
       "\n",
       "    .dataframe tbody tr th {\n",
       "        vertical-align: top;\n",
       "    }\n",
       "\n",
       "    .dataframe thead th {\n",
       "        text-align: right;\n",
       "    }\n",
       "</style>\n",
       "<table border=\"1\" class=\"dataframe\">\n",
       "  <thead>\n",
       "    <tr style=\"text-align: right;\">\n",
       "      <th></th>\n",
       "      <th>pattern_A</th>\n",
       "      <th>pattern_B</th>\n",
       "      <th>ratio</th>\n",
       "      <th>n_data</th>\n",
       "    </tr>\n",
       "  </thead>\n",
       "  <tbody>\n",
       "    <tr>\n",
       "      <th>0</th>\n",
       "      <td>6.511356</td>\n",
       "      <td>0.006613</td>\n",
       "      <td>984.556293</td>\n",
       "      <td>10</td>\n",
       "    </tr>\n",
       "    <tr>\n",
       "      <th>1</th>\n",
       "      <td>6.666674</td>\n",
       "      <td>0.018870</td>\n",
       "      <td>353.297185</td>\n",
       "      <td>100</td>\n",
       "    </tr>\n",
       "    <tr>\n",
       "      <th>2</th>\n",
       "      <td>7.693392</td>\n",
       "      <td>0.131858</td>\n",
       "      <td>58.346092</td>\n",
       "      <td>1000</td>\n",
       "    </tr>\n",
       "    <tr>\n",
       "      <th>3</th>\n",
       "      <td>8.602253</td>\n",
       "      <td>0.257760</td>\n",
       "      <td>33.373166</td>\n",
       "      <td>2000</td>\n",
       "    </tr>\n",
       "    <tr>\n",
       "      <th>4</th>\n",
       "      <td>9.607512</td>\n",
       "      <td>0.371632</td>\n",
       "      <td>25.852245</td>\n",
       "      <td>3000</td>\n",
       "    </tr>\n",
       "    <tr>\n",
       "      <th>5</th>\n",
       "      <td>12.401557</td>\n",
       "      <td>0.640034</td>\n",
       "      <td>19.376412</td>\n",
       "      <td>5000</td>\n",
       "    </tr>\n",
       "    <tr>\n",
       "      <th>6</th>\n",
       "      <td>20.105865</td>\n",
       "      <td>1.267873</td>\n",
       "      <td>15.857945</td>\n",
       "      <td>10000</td>\n",
       "    </tr>\n",
       "  </tbody>\n",
       "</table>\n",
       "</div>"
      ],
      "text/plain": [
       "   pattern_A  pattern_B       ratio  n_data\n",
       "0   6.511356   0.006613  984.556293      10\n",
       "1   6.666674   0.018870  353.297185     100\n",
       "2   7.693392   0.131858   58.346092    1000\n",
       "3   8.602253   0.257760   33.373166    2000\n",
       "4   9.607512   0.371632   25.852245    3000\n",
       "5  12.401557   0.640034   19.376412    5000\n",
       "6  20.105865   1.267873   15.857945   10000"
      ]
     },
     "execution_count": 5,
     "metadata": {},
     "output_type": "execute_result"
    }
   ],
   "source": [
    "elt"
   ]
  },
  {
   "cell_type": "code",
   "execution_count": 6,
   "metadata": {},
   "outputs": [
    {
     "data": {
      "image/png": "[encoded data removed]",
      "text/plain": [
       "<Figure size 576x432 with 1 Axes>"
      ]
     },
     "metadata": {},
     "output_type": "display_data"
    }
   ],
   "source": [
    "#x = np.arange(len(elt))\n",
    "x = n_data_list\n",
    "\n",
    "plt.figure(figsize=(8, 6))\n",
    "#fig, ax = plt.subplot()\n",
    "plt.plot(x, elt['pattern_A'].values, marker='.', label='列ループ')\n",
    "plt.plot(x, elt['pattern_B'].values, marker='.', label='DF一括')\n",
    "#ax.set_xticklabel(n_data)\n",
    "plt.legend()\n",
    "plt.show()"
   ]
  },
  {
   "cell_type": "code",
   "execution_count": null,
   "metadata": {},
   "outputs": [],
   "source": []
  },
  {
   "cell_type": "code",
   "execution_count": null,
   "metadata": {},
   "outputs": [],
   "source": []
  },
  {
   "cell_type": "code",
   "execution_count": null,
   "metadata": {},
   "outputs": [],
   "source": []
  },
  {
   "cell_type": "code",
   "execution_count": null,
   "metadata": {},
   "outputs": [],
   "source": []
  },
  {
   "cell_type": "code",
   "execution_count": null,
   "metadata": {},
   "outputs": [],
   "source": []
  }
 ],
 "metadata": {
  "kernelspec": {
   "display_name": "Python 3",
   "language": "python",
   "name": "python3"
  },
  "language_info": {
   "codemirror_mode": {
    "name": "ipython",
    "version": 3
   },
   "file_extension": ".py",
   "mimetype": "text/x-python",
   "name": "python",
   "nbconvert_exporter": "python",
   "pygments_lexer": "ipython3",
   "version": "3.7.4"
  }
 },
 "nbformat": 4,
 "nbformat_minor": 4
}
