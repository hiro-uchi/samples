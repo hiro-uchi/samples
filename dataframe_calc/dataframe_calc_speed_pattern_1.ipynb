{
 "cells": [
  {
   "cell_type": "code",
   "execution_count": 1,
   "metadata": {},
   "outputs": [],
   "source": [
    "import numpy as np\n",
    "import pandas as pd\n",
    "import matplotlib.pyplot as plt\n",
    "plt.style.use('ggplot')\n",
    "\n",
    "import japanize_matplotlib\n",
    "\n",
    "import time"
   ]
  },
  {
   "cell_type": "code",
   "execution_count": 2,
   "metadata": {},
   "outputs": [],
   "source": [
    "def compare_processing_time(n_data, n_cols):\n",
    "    \n",
    "    a = np.random.randn(n_data, n_cols) # 正規分布\n",
    "#    print(a.shape)\n",
    "#    plt.hist(a.reshape(-1, 1), bins=50)\n",
    "    \n",
    "    b = np.random.randint(low=0, high=10, size=(n_data, n_cols))\n",
    "#    print(b.shape)\n",
    "#    plt.hist(b.reshape(-1, 1), bins=50)\n",
    "    \n",
    "    # DataFame化\n",
    "    cols = ['col_{}'.format(k) for k in range(0, n_cols)]\n",
    "\n",
    "    # 処理時間比較用\n",
    "    elt = []\n",
    "    \n",
    "    # (a) 列方向にループ\n",
    "    df_a = pd.DataFrame(a, columns=cols)\n",
    "    df_b = pd.DataFrame(b, columns=cols)\n",
    "\n",
    "    start = time.time()\n",
    "    for _col in cols:\n",
    "        df_a[_col] = df_a[_col] + df_b[_col]\n",
    "\n",
    "    et = time.time() - start\n",
    "    elt.append(et)\n",
    "#    print('(a)')\n",
    "#    print(df_a.head())\n",
    "    \n",
    "    # (b) DataFrameどうしで一括計算\n",
    "    df_a = pd.DataFrame(a, columns=cols)\n",
    "    df_b = pd.DataFrame(b, columns=cols)\n",
    "\n",
    "    start = time.time()\n",
    "    df_c = df_a + df_b\n",
    "\n",
    "    et = time.time() - start\n",
    "    elt.append(et)\n",
    "#    print('(b)')\n",
    "#    print(df_c.head())\n",
    "    \n",
    "    return elt"
   ]
  },
  {
   "cell_type": "code",
   "execution_count": 10,
   "metadata": {},
   "outputs": [
    {
     "name": "stdout",
     "output_type": "stream",
     "text": [
      "n_data=10\n",
      "n_data=100\n",
      "n_data=1000\n",
      "n_data=2000\n",
      "n_data=3000\n",
      "n_data=5000\n",
      "n_data=10000\n"
     ]
    }
   ],
   "source": [
    "n_data_list =[10, 100, 1_000, 2_000, 3_000, 5_000, 10_000,]\n",
    "n_cols = 10_000\n",
    "\n",
    "elt = []\n",
    "for n_data in n_data_list:\n",
    "    print(f'n_data={n_data}')\n",
    "    _elt = compare_processing_time(n_data, n_cols)\n",
    "    elt.append(_elt)\n",
    "    \n",
    "elt = pd.DataFrame(np.array(elt), columns=['pattern_A', 'pattern_B'])"
   ]
  },
  {
   "cell_type": "code",
   "execution_count": 14,
   "metadata": {},
   "outputs": [],
   "source": [
    "elt['ratio'] = elt['pattern_A'] / elt['pattern_B']\n",
    "elt['n_data'] = n_data_list"
   ]
  },
  {
   "cell_type": "code",
   "execution_count": 15,
   "metadata": {},
   "outputs": [
    {
     "data": {
      "text/html": [
       "<div>\n",
       "<style scoped>\n",
       "    .dataframe tbody tr th:only-of-type {\n",
       "        vertical-align: middle;\n",
       "    }\n",
       "\n",
       "    .dataframe tbody tr th {\n",
       "        vertical-align: top;\n",
       "    }\n",
       "\n",
       "    .dataframe thead th {\n",
       "        text-align: right;\n",
       "    }\n",
       "</style>\n",
       "<table border=\"1\" class=\"dataframe\">\n",
       "  <thead>\n",
       "    <tr style=\"text-align: right;\">\n",
       "      <th></th>\n",
       "      <th>pattern_A</th>\n",
       "      <th>pattern_B</th>\n",
       "      <th>ratio</th>\n",
       "      <th>n_data</th>\n",
       "    </tr>\n",
       "  </thead>\n",
       "  <tbody>\n",
       "    <tr>\n",
       "      <th>0</th>\n",
       "      <td>4.333321</td>\n",
       "      <td>0.002868</td>\n",
       "      <td>1510.953945</td>\n",
       "      <td>10</td>\n",
       "    </tr>\n",
       "    <tr>\n",
       "      <th>1</th>\n",
       "      <td>4.166343</td>\n",
       "      <td>0.007486</td>\n",
       "      <td>556.543457</td>\n",
       "      <td>100</td>\n",
       "    </tr>\n",
       "    <tr>\n",
       "      <th>2</th>\n",
       "      <td>4.866975</td>\n",
       "      <td>0.050442</td>\n",
       "      <td>96.487054</td>\n",
       "      <td>1000</td>\n",
       "    </tr>\n",
       "    <tr>\n",
       "      <th>3</th>\n",
       "      <td>5.535537</td>\n",
       "      <td>0.100057</td>\n",
       "      <td>55.323762</td>\n",
       "      <td>2000</td>\n",
       "    </tr>\n",
       "    <tr>\n",
       "      <th>4</th>\n",
       "      <td>6.145476</td>\n",
       "      <td>0.147550</td>\n",
       "      <td>41.650026</td>\n",
       "      <td>3000</td>\n",
       "    </tr>\n",
       "    <tr>\n",
       "      <th>5</th>\n",
       "      <td>7.776608</td>\n",
       "      <td>0.259138</td>\n",
       "      <td>30.009513</td>\n",
       "      <td>5000</td>\n",
       "    </tr>\n",
       "    <tr>\n",
       "      <th>6</th>\n",
       "      <td>13.808323</td>\n",
       "      <td>0.512057</td>\n",
       "      <td>26.966401</td>\n",
       "      <td>10000</td>\n",
       "    </tr>\n",
       "  </tbody>\n",
       "</table>\n",
       "</div>"
      ],
      "text/plain": [
       "   pattern_A  pattern_B        ratio  n_data\n",
       "0   4.333321   0.002868  1510.953945      10\n",
       "1   4.166343   0.007486   556.543457     100\n",
       "2   4.866975   0.050442    96.487054    1000\n",
       "3   5.535537   0.100057    55.323762    2000\n",
       "4   6.145476   0.147550    41.650026    3000\n",
       "5   7.776608   0.259138    30.009513    5000\n",
       "6  13.808323   0.512057    26.966401   10000"
      ]
     },
     "execution_count": 15,
     "metadata": {},
     "output_type": "execute_result"
    }
   ],
   "source": [
    "elt"
   ]
  },
  {
   "cell_type": "code",
   "execution_count": 13,
   "metadata": {},
   "outputs": [
    {
     "data": {
      "image/png": "[encoded data removed]",
      "text/plain": [
       "<Figure size 576x432 with 1 Axes>"
      ]
     },
     "metadata": {},
     "output_type": "display_data"
    }
   ],
   "source": [
    "#x = np.arange(len(elt))\n",
    "x = n_data_list\n",
    "\n",
    "plt.figure(figsize=(8, 6))\n",
    "#fig, ax = plt.subplot()\n",
    "plt.plot(x, elt['pattern_A'].values, marker='.', label='列ループ')\n",
    "plt.plot(x, elt['pattern_B'].values, marker='.', label='DF一括')\n",
    "#ax.set_xticklabel(n_data)\n",
    "plt.legend()\n",
    "plt.show()"
   ]
  },
  {
   "cell_type": "code",
   "execution_count": null,
   "metadata": {},
   "outputs": [],
   "source": []
  },
  {
   "cell_type": "code",
   "execution_count": null,
   "metadata": {},
   "outputs": [],
   "source": []
  },
  {
   "cell_type": "code",
   "execution_count": null,
   "metadata": {},
   "outputs": [],
   "source": []
  },
  {
   "cell_type": "code",
   "execution_count": null,
   "metadata": {},
   "outputs": [],
   "source": []
  },
  {
   "cell_type": "code",
   "execution_count": null,
   "metadata": {},
   "outputs": [],
   "source": []
  }
 ],
 "metadata": {
  "kernelspec": {
   "display_name": "Python 3",
   "language": "python",
   "name": "python3"
  },
  "language_info": {
   "codemirror_mode": {
    "name": "ipython",
    "version": 3
   },
   "file_extension": ".py",
   "mimetype": "text/x-python",
   "name": "python",
   "nbconvert_exporter": "python",
   "pygments_lexer": "ipython3",
   "version": "3.7.4"
  }
 },
 "nbformat": 4,
 "nbformat_minor": 4
}
