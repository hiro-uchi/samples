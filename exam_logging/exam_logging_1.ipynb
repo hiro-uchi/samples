{
 "cells": [
  {
   "cell_type": "markdown",
   "metadata": {},
   "source": [
    "# loggingの実験（その１）\n",
    "できるだけ簡単な方法で、複数のクラスから同一ログファイルにログを出力したい。"
   ]
  },
  {
   "cell_type": "markdown",
   "metadata": {},
   "source": [
    "### サンプルクラスのインポート"
   ]
  },
  {
   "cell_type": "code",
   "execution_count": 1,
   "metadata": {
    "collapsed": true
   },
   "outputs": [],
   "source": [
    "from lib.cls_a import Class_A\n",
    "from lib.tmp.cls_b import Class_B"
   ]
  },
  {
   "cell_type": "markdown",
   "metadata": {},
   "source": [
    "### ログディレクトリの作成とファイル名の指定"
   ]
  },
  {
   "cell_type": "code",
   "execution_count": 2,
   "metadata": {
    "collapsed": true
   },
   "outputs": [],
   "source": [
    "import os\n",
    "\n",
    "log_dir = 'logs/'\n",
    "if not os.path.exists(log_dir):\n",
    "    os.makedirs(log_dir)\n",
    "    \n",
    "log_file_name = log_dir + 'logger_1.log'"
   ]
  },
  {
   "cell_type": "markdown",
   "metadata": {},
   "source": [
    "### インスタンスの生成\n",
    "- クラスA(logging.basicConfigを呼び出しているほう)のインスタンスを先に作り、get_helloを呼び出してログ出力\n",
    "- そのあとクラスBのインスタンスを作り、同様にget_helloを呼び出してログ出力"
   ]
  },
  {
   "cell_type": "code",
   "execution_count": 3,
   "metadata": {
    "collapsed": false,
    "scrolled": true
   },
   "outputs": [],
   "source": [
    "cls_a = Class_A(log_file_name)\n",
    "cls_a.get_hello()"
   ]
  },
  {
   "cell_type": "code",
   "execution_count": 4,
   "metadata": {
    "collapsed": true
   },
   "outputs": [],
   "source": [
    "cls_b = Class_B()\n",
    "cls_b.get_hello()"
   ]
  },
  {
   "cell_type": "markdown",
   "metadata": {},
   "source": [
    "### ログファイルの中身の確認"
   ]
  },
  {
   "cell_type": "code",
   "execution_count": 5,
   "metadata": {
    "collapsed": false
   },
   "outputs": [
    {
     "name": "stdout",
     "output_type": "stream",
     "text": [
      "CRITICAL:lib.cls_a:\tHello, I'm CRITICAL!\r\n",
      "ERROR:lib.cls_a:\tHello, I'm ERROR!\r\n",
      "WARNING:lib.cls_a:\tHello, I'm WARNING!\r\n",
      "INFO:lib.cls_a:\tHello, I'm INFO!\r\n",
      "DEBUG:lib.cls_a:\tHello, I'm DEBUG!\r\n",
      "CRITICAL:lib.tmp.cls_b:\tHello, I'm CRITICAL!\r\n",
      "ERROR:lib.tmp.cls_b:\tHello, I'm ERROR!\r\n",
      "WARNING:lib.tmp.cls_b:\tHello, I'm WARNING!\r\n",
      "INFO:lib.tmp.cls_b:\tHello, I'm INFO!\r\n",
      "DEBUG:lib.tmp.cls_b:\tHello, I'm DEBUG!\r\n"
     ]
    }
   ],
   "source": [
    "!cat $log_file_name"
   ]
  },
  {
   "cell_type": "markdown",
   "metadata": {},
   "source": [
    "- ↑ではClass_Aのみファイル指定をしている。にも関わらず、Class_Bのログも同じファイルに出力されている。\n",
    "    - ⇒つまり、logging はシングルトン的な動きをする、ということ。"
   ]
  },
  {
   "cell_type": "code",
   "execution_count": null,
   "metadata": {
    "collapsed": true
   },
   "outputs": [],
   "source": []
  }
 ],
 "metadata": {
  "kernelspec": {
   "display_name": "Python 3",
   "language": "python",
   "name": "python3"
  },
  "language_info": {
   "codemirror_mode": {
    "name": "ipython",
    "version": 3
   },
   "file_extension": ".py",
   "mimetype": "text/x-python",
   "name": "python",
   "nbconvert_exporter": "python",
   "pygments_lexer": "ipython3",
   "version": "3.5.2"
  }
 },
 "nbformat": 4,
 "nbformat_minor": 2
}
