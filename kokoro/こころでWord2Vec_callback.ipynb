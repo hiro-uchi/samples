{
 "cells": [
  {
   "cell_type": "markdown",
   "metadata": {},
   "source": [
    "# 「こころ」でWord2Vec\n",
    "- コールバックなどの確認"
   ]
  },
  {
   "cell_type": "code",
   "execution_count": 1,
   "metadata": {},
   "outputs": [],
   "source": [
    "import numpy as np\n",
    "import matplotlib.pyplot as plt\n",
    "import japanize_matplotlib\n",
    "plt.style.use('ggplot')"
   ]
  },
  {
   "cell_type": "code",
   "execution_count": 2,
   "metadata": {},
   "outputs": [],
   "source": [
    "import pandas as pd\n"
   ]
  },
  {
   "cell_type": "code",
   "execution_count": 3,
   "metadata": {},
   "outputs": [],
   "source": [
    "random_state = 12345"
   ]
  },
  {
   "cell_type": "code",
   "execution_count": 4,
   "metadata": {},
   "outputs": [],
   "source": [
    "data = pd.read_csv('こころ_形態素.csv', index_col=0)"
   ]
  },
  {
   "cell_type": "code",
   "execution_count": 5,
   "metadata": {},
   "outputs": [
    {
     "data": {
      "text/html": [
       "<div>\n",
       "<style scoped>\n",
       "    .dataframe tbody tr th:only-of-type {\n",
       "        vertical-align: middle;\n",
       "    }\n",
       "\n",
       "    .dataframe tbody tr th {\n",
       "        vertical-align: top;\n",
       "    }\n",
       "\n",
       "    .dataframe thead th {\n",
       "        text-align: right;\n",
       "    }\n",
       "</style>\n",
       "<table border=\"1\" class=\"dataframe\">\n",
       "  <thead>\n",
       "    <tr style=\"text-align: right;\">\n",
       "      <th></th>\n",
       "      <th>テキスト</th>\n",
       "      <th>部</th>\n",
       "      <th>章</th>\n",
       "      <th>章（ラベル）</th>\n",
       "      <th>テキスト_形態素</th>\n",
       "    </tr>\n",
       "  </thead>\n",
       "  <tbody>\n",
       "    <tr>\n",
       "      <th>0</th>\n",
       "      <td>私はその人を常に先生と呼んでいた。だからここでもただ先生と書くだけで本名は打ち明けない。こ...</td>\n",
       "      <td>[1]上＿先生と私</td>\n",
       "      <td>1_01</td>\n",
       "      <td>上・一</td>\n",
       "      <td>['私', 'は', 'その', '人', 'を', '常に', '先生', 'と', '呼...</td>\n",
       "    </tr>\n",
       "    <tr>\n",
       "      <th>1</th>\n",
       "      <td>私が先生と知り合いになったのは鎌倉である。その時私はまだ若々しい書生であった。暑中休暇を利...</td>\n",
       "      <td>[1]上＿先生と私</td>\n",
       "      <td>1_01</td>\n",
       "      <td>上・一</td>\n",
       "      <td>['私', 'が', '先生', 'と', '知り合い', 'に', 'なる', 'た', ...</td>\n",
       "    </tr>\n",
       "    <tr>\n",
       "      <th>2</th>\n",
       "      <td>学校の授業が始まるにはまだ大分日数があるので鎌倉におってもよし、帰ってもよいという境遇にい...</td>\n",
       "      <td>[1]上＿先生と私</td>\n",
       "      <td>1_01</td>\n",
       "      <td>上・一</td>\n",
       "      <td>['学校', 'の', '授業', 'が', '始まる', 'に', 'は', 'まだ', ...</td>\n",
       "    </tr>\n",
       "    <tr>\n",
       "      <th>3</th>\n",
       "      <td>宿は鎌倉でも辺鄙な方角にあった。玉突きだのアイスクリームだのというハイカラなものには長い畷...</td>\n",
       "      <td>[1]上＿先生と私</td>\n",
       "      <td>1_01</td>\n",
       "      <td>上・一</td>\n",
       "      <td>['宿', 'は', '鎌倉', 'で', 'も', '辺鄙', 'だ', '方角', 'に...</td>\n",
       "    </tr>\n",
       "    <tr>\n",
       "      <th>4</th>\n",
       "      <td>私は毎日海へはいりに出掛けた。古い燻ぶり返った藁葺の間を通り抜けて磯へ下りると、この辺にこ...</td>\n",
       "      <td>[1]上＿先生と私</td>\n",
       "      <td>1_01</td>\n",
       "      <td>上・一</td>\n",
       "      <td>['私', 'は', '毎日', '海', 'へ', 'はいる', 'に', '出掛ける',...</td>\n",
       "    </tr>\n",
       "    <tr>\n",
       "      <th>...</th>\n",
       "      <td>...</td>\n",
       "      <td>...</td>\n",
       "      <td>...</td>\n",
       "      <td>...</td>\n",
       "      <td>...</td>\n",
       "    </tr>\n",
       "    <tr>\n",
       "      <th>1210</th>\n",
       "      <td>それから二、三日して、私はとうとう自殺する決心をしたのです。私に乃木さんの死んだ理由がよく...</td>\n",
       "      <td>[3]下＿先生と遺書</td>\n",
       "      <td>3_56</td>\n",
       "      <td>下・五十六</td>\n",
       "      <td>['それから', '二', '三', '日', 'する', 'て', '私', 'は', '...</td>\n",
       "    </tr>\n",
       "    <tr>\n",
       "      <th>1211</th>\n",
       "      <td>私は妻を残して行きます。私がいなくなっても妻に衣食住の心配がないのは仕合せです。私は妻に残...</td>\n",
       "      <td>[3]下＿先生と遺書</td>\n",
       "      <td>3_56</td>\n",
       "      <td>下・五十六</td>\n",
       "      <td>['私', 'は', '妻', 'を', '残す', 'て', '行く', 'ます', '私...</td>\n",
       "    </tr>\n",
       "    <tr>\n",
       "      <th>1212</th>\n",
       "      <td>私が死のうと決心してから、もう十日以上になりますが、その大部分はあなたにこの長い自叙伝の一...</td>\n",
       "      <td>[3]下＿先生と遺書</td>\n",
       "      <td>3_56</td>\n",
       "      <td>下・五十六</td>\n",
       "      <td>['私', 'が', '死ぬ', 'う', 'と', '決心', 'する', 'て', 'か...</td>\n",
       "    </tr>\n",
       "    <tr>\n",
       "      <th>1213</th>\n",
       "      <td>しかし私は今その要求を果たしました。もう何にもする事はありません。この手紙があなたの手に落...</td>\n",
       "      <td>[3]下＿先生と遺書</td>\n",
       "      <td>3_56</td>\n",
       "      <td>下・五十六</td>\n",
       "      <td>['しかし', '私', 'は', '今', 'その', '要求', 'を', '果たす',...</td>\n",
       "    </tr>\n",
       "    <tr>\n",
       "      <th>1214</th>\n",
       "      <td>私は私の過去を善悪ともに他の参考に供するつもりです。しかし妻だけはたった一人の例外だと承知...</td>\n",
       "      <td>[3]下＿先生と遺書</td>\n",
       "      <td>3_56</td>\n",
       "      <td>下・五十六</td>\n",
       "      <td>['私', 'は', '私', 'の', '過去', 'を', '善悪', 'とも', 'に...</td>\n",
       "    </tr>\n",
       "  </tbody>\n",
       "</table>\n",
       "<p>1215 rows × 5 columns</p>\n",
       "</div>"
      ],
      "text/plain": [
       "                                                   テキスト           部     章  \\\n",
       "0     　私はその人を常に先生と呼んでいた。だからここでもただ先生と書くだけで本名は打ち明けない。こ...   [1]上＿先生と私  1_01   \n",
       "1     　私が先生と知り合いになったのは鎌倉である。その時私はまだ若々しい書生であった。暑中休暇を利...   [1]上＿先生と私  1_01   \n",
       "2     　学校の授業が始まるにはまだ大分日数があるので鎌倉におってもよし、帰ってもよいという境遇にい...   [1]上＿先生と私  1_01   \n",
       "3     　宿は鎌倉でも辺鄙な方角にあった。玉突きだのアイスクリームだのというハイカラなものには長い畷...   [1]上＿先生と私  1_01   \n",
       "4     　私は毎日海へはいりに出掛けた。古い燻ぶり返った藁葺の間を通り抜けて磯へ下りると、この辺にこ...   [1]上＿先生と私  1_01   \n",
       "...                                                 ...         ...   ...   \n",
       "1210  　それから二、三日して、私はとうとう自殺する決心をしたのです。私に乃木さんの死んだ理由がよく...  [3]下＿先生と遺書  3_56   \n",
       "1211  　私は妻を残して行きます。私がいなくなっても妻に衣食住の心配がないのは仕合せです。私は妻に残...  [3]下＿先生と遺書  3_56   \n",
       "1212  　私が死のうと決心してから、もう十日以上になりますが、その大部分はあなたにこの長い自叙伝の一...  [3]下＿先生と遺書  3_56   \n",
       "1213  　しかし私は今その要求を果たしました。もう何にもする事はありません。この手紙があなたの手に落...  [3]下＿先生と遺書  3_56   \n",
       "1214  　私は私の過去を善悪ともに他の参考に供するつもりです。しかし妻だけはたった一人の例外だと承知...  [3]下＿先生と遺書  3_56   \n",
       "\n",
       "     章（ラベル）                                           テキスト_形態素  \n",
       "0       上・一  ['私', 'は', 'その', '人', 'を', '常に', '先生', 'と', '呼...  \n",
       "1       上・一  ['私', 'が', '先生', 'と', '知り合い', 'に', 'なる', 'た', ...  \n",
       "2       上・一  ['学校', 'の', '授業', 'が', '始まる', 'に', 'は', 'まだ', ...  \n",
       "3       上・一  ['宿', 'は', '鎌倉', 'で', 'も', '辺鄙', 'だ', '方角', 'に...  \n",
       "4       上・一  ['私', 'は', '毎日', '海', 'へ', 'はいる', 'に', '出掛ける',...  \n",
       "...     ...                                                ...  \n",
       "1210  下・五十六  ['それから', '二', '三', '日', 'する', 'て', '私', 'は', '...  \n",
       "1211  下・五十六  ['私', 'は', '妻', 'を', '残す', 'て', '行く', 'ます', '私...  \n",
       "1212  下・五十六  ['私', 'が', '死ぬ', 'う', 'と', '決心', 'する', 'て', 'か...  \n",
       "1213  下・五十六  ['しかし', '私', 'は', '今', 'その', '要求', 'を', '果たす',...  \n",
       "1214  下・五十六  ['私', 'は', '私', 'の', '過去', 'を', '善悪', 'とも', 'に...  \n",
       "\n",
       "[1215 rows x 5 columns]"
      ]
     },
     "execution_count": 5,
     "metadata": {},
     "output_type": "execute_result"
    }
   ],
   "source": [
    "data"
   ]
  },
  {
   "cell_type": "code",
   "execution_count": 6,
   "metadata": {},
   "outputs": [],
   "source": [
    "word_list = data['テキスト_形態素'].apply(eval)  # str -> list へ変換"
   ]
  },
  {
   "cell_type": "code",
   "execution_count": 7,
   "metadata": {},
   "outputs": [],
   "source": [
    "word_list = list(word_list)"
   ]
  },
  {
   "cell_type": "code",
   "execution_count": 8,
   "metadata": {},
   "outputs": [],
   "source": [
    "#word_list"
   ]
  },
  {
   "cell_type": "code",
   "execution_count": 9,
   "metadata": {},
   "outputs": [
    {
     "data": {
      "text/plain": [
       "1215"
      ]
     },
     "execution_count": 9,
     "metadata": {},
     "output_type": "execute_result"
    }
   ],
   "source": [
    "len(word_list)"
   ]
  },
  {
   "cell_type": "code",
   "execution_count": 10,
   "metadata": {},
   "outputs": [],
   "source": [
    "# Word2Vecライブラリの導入\n",
    "#!sudo /opt/conda/bin/python -m pip install gensim"
   ]
  },
  {
   "cell_type": "code",
   "execution_count": 11,
   "metadata": {},
   "outputs": [],
   "source": [
    "# Word2Vecライブラリのロード\n",
    "from gensim.models import word2vec"
   ]
  },
  {
   "cell_type": "code",
   "execution_count": 12,
   "metadata": {},
   "outputs": [],
   "source": [
    "# Word2Vec用のCallback\n",
    "from gensim.models.callbacks import CallbackAny2Vec\n",
    "\n",
    "class EpochLogger(CallbackAny2Vec):\n",
    "    '''Callback to log information about training'''\n",
    "\n",
    "    def __init__(self, print_interval=5):\n",
    "        self.epoch = 0\n",
    "        self.train_loss = []\n",
    "        self.print_interval = print_interval\n",
    "\n",
    "    def on_epoch_begin(self, model):\n",
    "#        print(\"Epoch #{} start\".format(self.epoch))\n",
    "        pass\n",
    "\n",
    "    def on_epoch_end(self, model):\n",
    "        # Notice:\n",
    "        #  Current value of get_latest_training_loss seems to be incorrect.\n",
    "        #  See pull-request below:\n",
    "        #  Fix computation of `Word2Vec` loss & add loss value to logging string\n",
    "        #  https://github.com/RaRe-Technologies/gensim/pull/2135\n",
    "        #\n",
    "        #  See also:\n",
    "        #  https://stackoverflow.com/questions/52038651/loss-does-not-decrease-during-training-word2vec-gensim\n",
    "\n",
    "        _loss = model.get_latest_training_loss()\n",
    "        self.train_loss.append(_loss)\n",
    "        if self.epoch % self.print_interval == 0:\n",
    "            print(\"Epoch #{} end (Loss: {:,.2f})\".format(self.epoch, _loss))\n",
    "        self.epoch += 1\n",
    "        "
   ]
  },
  {
   "cell_type": "code",
   "execution_count": 13,
   "metadata": {},
   "outputs": [
    {
     "name": "stdout",
     "output_type": "stream",
     "text": [
      "Epoch #0 end (Loss: 68,643.32)\n",
      "Epoch #50 end (Loss: 2,381,249.00)\n",
      "Epoch #100 end (Loss: 3,950,300.50)\n",
      "Epoch #150 end (Loss: 5,215,396.00)\n"
     ]
    }
   ],
   "source": [
    "# size: 圧縮次元数\n",
    "# min_count: 出現頻度の低いものをカットする\n",
    "# window: 前後の単語を拾う際の窓の広さを決める\n",
    "# iter: 機械学習の繰り返し回数(デフォルト:5)十分学習できていないときにこの値を調整する\n",
    "# model.wv.most_similarの結果が1に近いものばかりで、model.dict['wv']のベクトル値が小さい値ばかりの \n",
    "# ときは、学習回数が少ないと考えられます。\n",
    "# その場合、iterの値を大きくして、再度学習を行います。\n",
    "\n",
    "w2v_params = {\n",
    "    'size': 100,\n",
    "    'min_count': 1,\n",
    "    'window': 15,\n",
    "    'iter': 200,\n",
    "    'compute_loss': True,\n",
    "    'seed': random_state,\n",
    "}\n",
    "\n",
    "print_interval = 50\n",
    "epoch_logger = EpochLogger(print_interval=print_interval)\n",
    "\n",
    "# 事前準備したword_listを使ってWord2Vecの学習実施\n",
    "#model = word2vec.Word2Vec(word_list, size=100,min_count=5,window=5,iter=100)\n",
    "model = word2vec.Word2Vec(word_list, **w2v_params, callbacks=[epoch_logger])\n"
   ]
  },
  {
   "cell_type": "code",
   "execution_count": 14,
   "metadata": {},
   "outputs": [
    {
     "data": {
      "text/plain": [
       "[<matplotlib.lines.Line2D at 0x7ff26c72a210>]"
      ]
     },
     "execution_count": 14,
     "metadata": {},
     "output_type": "execute_result"
    },
    {
     "data": {
      "image/png": "[encoded data removed]",
      "text/plain": [
       "<Figure size 720x360 with 1 Axes>"
      ]
     },
     "metadata": {},
     "output_type": "display_data"
    }
   ],
   "source": [
    "train_loss = np.array(epoch_logger.train_loss)\n",
    "#train_loss\n",
    "\n",
    "# Notice:\n",
    "#  Current value of get_latest_training_loss seems to be incorrect.\n",
    "#  See pull-request below:\n",
    "#  Fix computation of `Word2Vec` loss & add loss value to logging string\n",
    "#  https://github.com/RaRe-Technologies/gensim/pull/2135\n",
    "#\n",
    "#  See also:\n",
    "#  https://stackoverflow.com/questions/52038651/loss-does-not-decrease-during-training-word2vec-gensim\n",
    "#  (gensim.word2vecのget_latest_training_lossにはバグがあるので、1エポック前との差分で見ないといけない)\n",
    "diff_loss = train_loss[1:] - train_loss[:-1]  # 1epoch前からの増分\n",
    "\n",
    "# lossの可視化\n",
    "plt.figure(figsize=(10, 5))\n",
    "\n",
    "#X = np.arange(len(train_loss))\n",
    "#plt.plot(train_loss, marker='.')\n",
    "plt.plot(diff_loss, marker='.')\n"
   ]
  },
  {
   "cell_type": "code",
   "execution_count": 15,
   "metadata": {},
   "outputs": [
    {
     "name": "stdout",
     "output_type": "stream",
     "text": [
      "[ 2.0003052   1.3145612   0.05831688  1.2272507   3.0935607  -0.49521077\n",
      "  1.8190222  -2.42913    -1.6539054  -4.0150523  -1.5147403   3.9093513\n",
      "  0.32736742 -2.7880633   0.5579745  -0.11362537 -3.094031    0.93140495\n",
      "  6.2494965  -1.5702231  -4.304531    0.3905624   1.0212245  -0.20535903\n",
      " -0.82356936  4.2584767   1.5379912  -2.5872378  -2.7861505   1.1736078\n",
      "  2.1861193   1.8608577   0.01184895 -4.799336   -3.3432813   1.4846002\n",
      "  1.6751608  -1.6268708   1.0620188  -2.6818986  -2.3368828   0.78787225\n",
      " -0.25201237  1.9719135   0.12488313  0.1969378  -1.1555481  -2.7089252\n",
      " -1.4743274   2.01987    -0.12746806 -1.7515712   4.2380295   0.34617496\n",
      "  2.4712849   0.2586311  -0.18568571  2.464785    0.7778619  -0.7229601\n",
      " -0.17561403 -1.4032979   4.2849174  -1.0011743   0.30340356 -1.3041058\n",
      " -3.8584127  -1.8381678  -0.13495144  0.8927088  -2.05792    -0.79862094\n",
      "  0.43355832  0.88912743 -0.5796918   0.1494689  -0.8298171   2.472721\n",
      "  2.6628323   0.51560557  1.323769   -6.8298697   2.6000834   1.3359501\n",
      " -2.456397   -4.9602866   1.2644957   2.2621453   1.3161598   0.29911366\n",
      " -1.3493313  -2.3501632  -0.17950553  0.14211965  3.8403435  -1.2280071\n",
      "  0.52791417  5.4339743  -0.27679622 -1.4453887 ]\n"
     ]
    }
   ],
   "source": [
    "# 結果の確認1\n",
    "# 一つ一つの単語は100次元のベクトルになっています。 \n",
    "# 「世間」のベクトル値を確認します。\n",
    "# model.wv['世間'] としてもほぼ同じ\n",
    "print(model.__dict__['wv']['世間'])"
   ]
  },
  {
   "cell_type": "code",
   "execution_count": 16,
   "metadata": {},
   "outputs": [
    {
     "name": "stdout",
     "output_type": "stream",
     "text": [
      "著名 0.37909048795700073\n",
      "評する 0.36796650290489197\n",
      "努力 0.3512151837348938\n",
      "先輩 0.3483651280403137\n",
      "誰彼 0.3433775305747986\n",
      "脳髄 0.34194666147232056\n",
      "暴力 0.3413277268409729\n",
      "無聊 0.34067344665527344\n",
      "ひどい 0.3389521837234497\n",
      "純 0.3384166359901428\n"
     ]
    }
   ],
   "source": [
    "# 結果の確認2\n",
    "# 関数most_similarを使って「世間」の類似単語を調べます \n",
    "ret = model.wv.most_similar(positive=['世間']) \n",
    "for item in ret:\n",
    "    print(item[0], item[1])"
   ]
  },
  {
   "cell_type": "code",
   "execution_count": 17,
   "metadata": {},
   "outputs": [
    {
     "name": "stdout",
     "output_type": "stream",
     "text": [
      "悪人 0.38645875453948975\n",
      "幸福 0.37810593843460083\n",
      "信愛 0.3404798209667206\n",
      "犠牲 0.3387081027030945\n",
      "軽薄 0.33250635862350464\n",
      "経験 0.3279288113117218\n",
      "み 0.3247189521789551\n",
      "よっぽど 0.3236047029495239\n",
      "変化 0.3227131962776184\n",
      "憚 0.3103991150856018\n"
     ]
    }
   ],
   "source": [
    "ret = model.wv.most_similar(positive=['人間']) \n",
    "for item in ret:\n",
    "    print(item[0], item[1])"
   ]
  },
  {
   "cell_type": "code",
   "execution_count": null,
   "metadata": {},
   "outputs": [],
   "source": []
  }
 ],
 "metadata": {
  "kernelspec": {
   "display_name": "Python 3",
   "language": "python",
   "name": "python3"
  },
  "language_info": {
   "codemirror_mode": {
    "name": "ipython",
    "version": 3
   },
   "file_extension": ".py",
   "mimetype": "text/x-python",
   "name": "python",
   "nbconvert_exporter": "python",
   "pygments_lexer": "ipython3",
   "version": "3.7.4"
  }
 },
 "nbformat": 4,
 "nbformat_minor": 4
}
