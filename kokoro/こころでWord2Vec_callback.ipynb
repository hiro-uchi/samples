{
 "cells": [
  {
   "cell_type": "markdown",
   "metadata": {},
   "source": [
    "# 「こころ」でWord2Vec\n",
    "- コールバックなどの確認"
   ]
  },
  {
   "cell_type": "code",
   "execution_count": 1,
   "metadata": {},
   "outputs": [],
   "source": [
    "import numpy as np\n",
    "import matplotlib.pyplot as plt\n",
    "import japanize_matplotlib\n",
    "plt.style.use('ggplot')"
   ]
  },
  {
   "cell_type": "code",
   "execution_count": 2,
   "metadata": {},
   "outputs": [],
   "source": [
    "import pandas as pd\n"
   ]
  },
  {
   "cell_type": "code",
   "execution_count": 3,
   "metadata": {},
   "outputs": [],
   "source": [
    "random_state = 12345"
   ]
  },
  {
   "cell_type": "code",
   "execution_count": 4,
   "metadata": {},
   "outputs": [],
   "source": [
    "data = pd.read_csv('こころ_形態素.csv', index_col=0)"
   ]
  },
  {
   "cell_type": "code",
   "execution_count": 5,
   "metadata": {},
   "outputs": [
    {
     "data": {
      "text/html": [
       "<div>\n",
       "<style scoped>\n",
       "    .dataframe tbody tr th:only-of-type {\n",
       "        vertical-align: middle;\n",
       "    }\n",
       "\n",
       "    .dataframe tbody tr th {\n",
       "        vertical-align: top;\n",
       "    }\n",
       "\n",
       "    .dataframe thead th {\n",
       "        text-align: right;\n",
       "    }\n",
       "</style>\n",
       "<table border=\"1\" class=\"dataframe\">\n",
       "  <thead>\n",
       "    <tr style=\"text-align: right;\">\n",
       "      <th></th>\n",
       "      <th>テキスト</th>\n",
       "      <th>部</th>\n",
       "      <th>章</th>\n",
       "      <th>章（ラベル）</th>\n",
       "      <th>テキスト_形態素</th>\n",
       "    </tr>\n",
       "  </thead>\n",
       "  <tbody>\n",
       "    <tr>\n",
       "      <th>0</th>\n",
       "      <td>私はその人を常に先生と呼んでいた。だからここでもただ先生と書くだけで本名は打ち明けない。こ...</td>\n",
       "      <td>[1]上＿先生と私</td>\n",
       "      <td>1_01</td>\n",
       "      <td>上・一</td>\n",
       "      <td>['私', 'は', 'その', '人', 'を', '常に', '先生', 'と', '呼...</td>\n",
       "    </tr>\n",
       "    <tr>\n",
       "      <th>1</th>\n",
       "      <td>私が先生と知り合いになったのは鎌倉である。その時私はまだ若々しい書生であった。暑中休暇を利...</td>\n",
       "      <td>[1]上＿先生と私</td>\n",
       "      <td>1_01</td>\n",
       "      <td>上・一</td>\n",
       "      <td>['私', 'が', '先生', 'と', '知り合い', 'に', 'なる', 'た', ...</td>\n",
       "    </tr>\n",
       "    <tr>\n",
       "      <th>2</th>\n",
       "      <td>学校の授業が始まるにはまだ大分日数があるので鎌倉におってもよし、帰ってもよいという境遇にい...</td>\n",
       "      <td>[1]上＿先生と私</td>\n",
       "      <td>1_01</td>\n",
       "      <td>上・一</td>\n",
       "      <td>['学校', 'の', '授業', 'が', '始まる', 'に', 'は', 'まだ', ...</td>\n",
       "    </tr>\n",
       "    <tr>\n",
       "      <th>3</th>\n",
       "      <td>宿は鎌倉でも辺鄙な方角にあった。玉突きだのアイスクリームだのというハイカラなものには長い畷...</td>\n",
       "      <td>[1]上＿先生と私</td>\n",
       "      <td>1_01</td>\n",
       "      <td>上・一</td>\n",
       "      <td>['宿', 'は', '鎌倉', 'で', 'も', '辺鄙', 'だ', '方角', 'に...</td>\n",
       "    </tr>\n",
       "    <tr>\n",
       "      <th>4</th>\n",
       "      <td>私は毎日海へはいりに出掛けた。古い燻ぶり返った藁葺の間を通り抜けて磯へ下りると、この辺にこ...</td>\n",
       "      <td>[1]上＿先生と私</td>\n",
       "      <td>1_01</td>\n",
       "      <td>上・一</td>\n",
       "      <td>['私', 'は', '毎日', '海', 'へ', 'はいる', 'に', '出掛ける',...</td>\n",
       "    </tr>\n",
       "    <tr>\n",
       "      <th>...</th>\n",
       "      <td>...</td>\n",
       "      <td>...</td>\n",
       "      <td>...</td>\n",
       "      <td>...</td>\n",
       "      <td>...</td>\n",
       "    </tr>\n",
       "    <tr>\n",
       "      <th>1210</th>\n",
       "      <td>それから二、三日して、私はとうとう自殺する決心をしたのです。私に乃木さんの死んだ理由がよく...</td>\n",
       "      <td>[3]下＿先生と遺書</td>\n",
       "      <td>3_56</td>\n",
       "      <td>下・五十六</td>\n",
       "      <td>['それから', '二', '三', '日', 'する', 'て', '私', 'は', '...</td>\n",
       "    </tr>\n",
       "    <tr>\n",
       "      <th>1211</th>\n",
       "      <td>私は妻を残して行きます。私がいなくなっても妻に衣食住の心配がないのは仕合せです。私は妻に残...</td>\n",
       "      <td>[3]下＿先生と遺書</td>\n",
       "      <td>3_56</td>\n",
       "      <td>下・五十六</td>\n",
       "      <td>['私', 'は', '妻', 'を', '残す', 'て', '行く', 'ます', '私...</td>\n",
       "    </tr>\n",
       "    <tr>\n",
       "      <th>1212</th>\n",
       "      <td>私が死のうと決心してから、もう十日以上になりますが、その大部分はあなたにこの長い自叙伝の一...</td>\n",
       "      <td>[3]下＿先生と遺書</td>\n",
       "      <td>3_56</td>\n",
       "      <td>下・五十六</td>\n",
       "      <td>['私', 'が', '死ぬ', 'う', 'と', '決心', 'する', 'て', 'か...</td>\n",
       "    </tr>\n",
       "    <tr>\n",
       "      <th>1213</th>\n",
       "      <td>しかし私は今その要求を果たしました。もう何にもする事はありません。この手紙があなたの手に落...</td>\n",
       "      <td>[3]下＿先生と遺書</td>\n",
       "      <td>3_56</td>\n",
       "      <td>下・五十六</td>\n",
       "      <td>['しかし', '私', 'は', '今', 'その', '要求', 'を', '果たす',...</td>\n",
       "    </tr>\n",
       "    <tr>\n",
       "      <th>1214</th>\n",
       "      <td>私は私の過去を善悪ともに他の参考に供するつもりです。しかし妻だけはたった一人の例外だと承知...</td>\n",
       "      <td>[3]下＿先生と遺書</td>\n",
       "      <td>3_56</td>\n",
       "      <td>下・五十六</td>\n",
       "      <td>['私', 'は', '私', 'の', '過去', 'を', '善悪', 'とも', 'に...</td>\n",
       "    </tr>\n",
       "  </tbody>\n",
       "</table>\n",
       "<p>1215 rows × 5 columns</p>\n",
       "</div>"
      ],
      "text/plain": [
       "                                                   テキスト           部     章  \\\n",
       "0     　私はその人を常に先生と呼んでいた。だからここでもただ先生と書くだけで本名は打ち明けない。こ...   [1]上＿先生と私  1_01   \n",
       "1     　私が先生と知り合いになったのは鎌倉である。その時私はまだ若々しい書生であった。暑中休暇を利...   [1]上＿先生と私  1_01   \n",
       "2     　学校の授業が始まるにはまだ大分日数があるので鎌倉におってもよし、帰ってもよいという境遇にい...   [1]上＿先生と私  1_01   \n",
       "3     　宿は鎌倉でも辺鄙な方角にあった。玉突きだのアイスクリームだのというハイカラなものには長い畷...   [1]上＿先生と私  1_01   \n",
       "4     　私は毎日海へはいりに出掛けた。古い燻ぶり返った藁葺の間を通り抜けて磯へ下りると、この辺にこ...   [1]上＿先生と私  1_01   \n",
       "...                                                 ...         ...   ...   \n",
       "1210  　それから二、三日して、私はとうとう自殺する決心をしたのです。私に乃木さんの死んだ理由がよく...  [3]下＿先生と遺書  3_56   \n",
       "1211  　私は妻を残して行きます。私がいなくなっても妻に衣食住の心配がないのは仕合せです。私は妻に残...  [3]下＿先生と遺書  3_56   \n",
       "1212  　私が死のうと決心してから、もう十日以上になりますが、その大部分はあなたにこの長い自叙伝の一...  [3]下＿先生と遺書  3_56   \n",
       "1213  　しかし私は今その要求を果たしました。もう何にもする事はありません。この手紙があなたの手に落...  [3]下＿先生と遺書  3_56   \n",
       "1214  　私は私の過去を善悪ともに他の参考に供するつもりです。しかし妻だけはたった一人の例外だと承知...  [3]下＿先生と遺書  3_56   \n",
       "\n",
       "     章（ラベル）                                           テキスト_形態素  \n",
       "0       上・一  ['私', 'は', 'その', '人', 'を', '常に', '先生', 'と', '呼...  \n",
       "1       上・一  ['私', 'が', '先生', 'と', '知り合い', 'に', 'なる', 'た', ...  \n",
       "2       上・一  ['学校', 'の', '授業', 'が', '始まる', 'に', 'は', 'まだ', ...  \n",
       "3       上・一  ['宿', 'は', '鎌倉', 'で', 'も', '辺鄙', 'だ', '方角', 'に...  \n",
       "4       上・一  ['私', 'は', '毎日', '海', 'へ', 'はいる', 'に', '出掛ける',...  \n",
       "...     ...                                                ...  \n",
       "1210  下・五十六  ['それから', '二', '三', '日', 'する', 'て', '私', 'は', '...  \n",
       "1211  下・五十六  ['私', 'は', '妻', 'を', '残す', 'て', '行く', 'ます', '私...  \n",
       "1212  下・五十六  ['私', 'が', '死ぬ', 'う', 'と', '決心', 'する', 'て', 'か...  \n",
       "1213  下・五十六  ['しかし', '私', 'は', '今', 'その', '要求', 'を', '果たす',...  \n",
       "1214  下・五十六  ['私', 'は', '私', 'の', '過去', 'を', '善悪', 'とも', 'に...  \n",
       "\n",
       "[1215 rows x 5 columns]"
      ]
     },
     "execution_count": 5,
     "metadata": {},
     "output_type": "execute_result"
    }
   ],
   "source": [
    "data"
   ]
  },
  {
   "cell_type": "code",
   "execution_count": 6,
   "metadata": {},
   "outputs": [],
   "source": [
    "word_list = data['テキスト_形態素'].apply(eval)  # str -> list へ変換"
   ]
  },
  {
   "cell_type": "code",
   "execution_count": 7,
   "metadata": {},
   "outputs": [],
   "source": [
    "word_list = list(word_list)"
   ]
  },
  {
   "cell_type": "code",
   "execution_count": 8,
   "metadata": {},
   "outputs": [],
   "source": [
    "#word_list"
   ]
  },
  {
   "cell_type": "code",
   "execution_count": 9,
   "metadata": {},
   "outputs": [
    {
     "data": {
      "text/plain": [
       "1215"
      ]
     },
     "execution_count": 9,
     "metadata": {},
     "output_type": "execute_result"
    }
   ],
   "source": [
    "len(word_list)"
   ]
  },
  {
   "cell_type": "code",
   "execution_count": 10,
   "metadata": {},
   "outputs": [],
   "source": [
    "# Word2Vecライブラリの導入\n",
    "#!sudo /opt/conda/bin/python -m pip install gensim"
   ]
  },
  {
   "cell_type": "code",
   "execution_count": 11,
   "metadata": {},
   "outputs": [],
   "source": [
    "# Word2Vecライブラリのロード\n",
    "from gensim.models import word2vec"
   ]
  },
  {
   "cell_type": "code",
   "execution_count": 12,
   "metadata": {},
   "outputs": [],
   "source": [
    "# Word2Vec用のCallback\n",
    "from gensim.models.callbacks import CallbackAny2Vec\n",
    "\n",
    "class EpochLogger(CallbackAny2Vec):\n",
    "    '''Callback to log information about training'''\n",
    "\n",
    "    def __init__(self, print_interval=5):\n",
    "        self.epoch = 0\n",
    "        self.train_loss = []\n",
    "        self.print_interval = print_interval\n",
    "\n",
    "    def on_epoch_begin(self, model):\n",
    "#        print(\"Epoch #{} start\".format(self.epoch))\n",
    "        pass\n",
    "\n",
    "    def on_epoch_end(self, model):\n",
    "        # Notice:\n",
    "        #  Current value of get_latest_training_loss may be incorrect.\n",
    "        #  See pull-request below:\n",
    "        #  Fix computation of `Word2Vec` loss & add loss value to logging string\n",
    "        #  https://github.com/RaRe-Technologies/gensim/pull/2135\n",
    "        #\n",
    "        #  See also:\n",
    "        #  https://stackoverflow.com/questions/52038651/loss-does-not-decrease-during-training-word2vec-gensim\n",
    "\n",
    "        _loss = model.get_latest_training_loss()\n",
    "        self.train_loss.append(_loss)\n",
    "        if self.epoch % self.print_interval == 0:\n",
    "            print(\"Epoch #{} end (Loss: {:,.2f})\".format(self.epoch, _loss))\n",
    "        self.epoch += 1\n",
    "        "
   ]
  },
  {
   "cell_type": "code",
   "execution_count": 13,
   "metadata": {},
   "outputs": [
    {
     "name": "stdout",
     "output_type": "stream",
     "text": [
      "Epoch #0 end (Loss: 68,970.83)\n",
      "Epoch #50 end (Loss: 2,382,598.00)\n",
      "Epoch #100 end (Loss: 3,953,451.00)\n",
      "Epoch #150 end (Loss: 5,217,553.50)\n"
     ]
    },
    {
     "data": {
      "text/plain": [
       "[<matplotlib.lines.Line2D at 0x7f3afc344510>]"
      ]
     },
     "execution_count": 13,
     "metadata": {},
     "output_type": "execute_result"
    },
    {
     "data": {
      "image/png": "[encoded data removed]",
      "text/plain": [
       "<Figure size 720x360 with 1 Axes>"
      ]
     },
     "metadata": {},
     "output_type": "display_data"
    }
   ],
   "source": [
    "# size: 圧縮次元数\n",
    "# min_count: 出現頻度の低いものをカットする\n",
    "# window: 前後の単語を拾う際の窓の広さを決める\n",
    "# iter: 機械学習の繰り返し回数(デフォルト:5)十分学習できていないときにこの値を調整する\n",
    "# model.wv.most_similarの結果が1に近いものばかりで、model.dict['wv']のベクトル値が小さい値ばかりの \n",
    "# ときは、学習回数が少ないと考えられます。\n",
    "# その場合、iterの値を大きくして、再度学習を行います。\n",
    "\n",
    "w2v_params = {\n",
    "    'size': 100,\n",
    "    'min_count': 1,\n",
    "    'window': 15,\n",
    "    'iter': 200,\n",
    "    'compute_loss': True,\n",
    "    'seed': random_state,\n",
    "}\n",
    "\n",
    "print_interval = 50\n",
    "epoch_logger = EpochLogger(print_interval=print_interval)\n",
    "\n",
    "# 事前準備したword_listを使ってWord2Vecの学習実施\n",
    "#model = word2vec.Word2Vec(word_list, size=100,min_count=5,window=5,iter=100)\n",
    "model = word2vec.Word2Vec(word_list, **w2v_params, callbacks=[epoch_logger])\n"
   ]
  },
  {
   "cell_type": "code",
   "execution_count": 19,
   "metadata": {},
   "outputs": [
    {
     "data": {
      "text/plain": [
       "[<matplotlib.lines.Line2D at 0x7f3afc22e790>]"
      ]
     },
     "execution_count": 19,
     "metadata": {},
     "output_type": "execute_result"
    },
    {
     "data": {
      "image/png": "[encoded data removed]",
      "text/plain": [
       "<Figure size 720x360 with 1 Axes>"
      ]
     },
     "metadata": {},
     "output_type": "display_data"
    }
   ],
   "source": [
    "train_loss = np.array(epoch_logger.train_loss)\n",
    "#train_loss\n",
    "\n",
    "diff_loss = train_loss[1:] - train_loss[:-1]  # 1epoch前からの増分\n",
    "\n",
    "# lossの可視化\n",
    "plt.figure(figsize=(10, 5))\n",
    "\n",
    "#X = np.arange(len(train_loss))\n",
    "#plt.plot(train_loss, marker='.')\n",
    "plt.plot(diff_loss, marker='.')\n"
   ]
  },
  {
   "cell_type": "code",
   "execution_count": 14,
   "metadata": {},
   "outputs": [
    {
     "name": "stdout",
     "output_type": "stream",
     "text": [
      "[-2.1535463   0.79984194  1.9758185   0.6151357   1.7426682   4.878612\n",
      "  3.8134997   4.185735    3.0209463  -0.9434321   0.13754557  0.5158944\n",
      "  2.2030325  -0.2363283  -3.0568972  -2.6018112   5.517231    0.48325735\n",
      " -0.47367507 -3.4029088   0.12444004  1.9842751  -0.05913954 -3.8647878\n",
      " -3.1779282  -2.3866267  -1.5422364   1.719806    0.1646499  -6.124587\n",
      " -0.05532982 -1.68722     4.7848134   0.00854415 -0.9050269  -1.9214383\n",
      " -3.4465463   1.1137102  -3.5186758  -0.64143074 -1.3900635  -0.07004364\n",
      "  1.8041136   0.80034864 -2.2277217  -2.6152647  -4.5280914   2.9723434\n",
      "  1.5978955   2.789896    2.0374467  -0.46516308 -4.1379213  -1.1098114\n",
      " -0.9961981   0.7873702  -2.976896   -0.40609148 -2.7410653   2.4981103\n",
      "  0.6247989   0.6965455  -0.46960026 -0.28181762  1.7644837  -5.3335814\n",
      "  1.7714405   1.0719012   0.40609768 -1.9459951  -0.7773248   2.4338791\n",
      "  1.1267451   3.6939282  -1.2041212   0.7726972   4.5448856   0.42680168\n",
      "  2.8523202   1.8879802   0.47027892 -2.1473742  -0.65057904  0.16364849\n",
      "  0.10757764  0.7558716  -2.0452702  -1.593077   -0.6591937  -4.014236\n",
      " -2.2155151   2.328927   -2.6283083   5.594285   -0.17110735 -0.21377812\n",
      " -0.90847856  4.5641093   1.4604664  -0.18238884]\n"
     ]
    }
   ],
   "source": [
    "# 結果の確認1\n",
    "# 一つ一つの単語は100次元のベクトルになっています。 \n",
    "# 「世間」のベクトル値を確認します。\n",
    "# model.wv['世間'] としてもほぼ同じ\n",
    "print(model.__dict__['wv']['世間'])"
   ]
  },
  {
   "cell_type": "code",
   "execution_count": 15,
   "metadata": {},
   "outputs": [
    {
     "name": "stdout",
     "output_type": "stream",
     "text": [
      "先輩 0.4004974961280823\n",
      "厳重 0.3756759762763977\n",
      "評する 0.36807847023010254\n",
      "意見 0.36400389671325684\n",
      "これから 0.3615782856941223\n",
      "見地 0.35934212803840637\n",
      "純 0.3544793128967285\n",
      "著名 0.3403777480125427\n",
      "もっと 0.3393193185329437\n",
      "平凡 0.3340153396129608\n"
     ]
    }
   ],
   "source": [
    "# 結果の確認2\n",
    "# 関数most_similarを使って「世間」の類似単語を調べます \n",
    "ret = model.wv.most_similar(positive=['世間']) \n",
    "for item in ret:\n",
    "    print(item[0], item[1])"
   ]
  },
  {
   "cell_type": "code",
   "execution_count": 16,
   "metadata": {},
   "outputs": [
    {
     "name": "stdout",
     "output_type": "stream",
     "text": [
      "悪人 0.4045700430870056\n",
      "み 0.37212124466896057\n",
      "憚 0.35754120349884033\n",
      "変化 0.3537025451660156\n",
      "問題 0.3343837261199951\n",
      "犠牲 0.3309716582298279\n",
      "幸福 0.32783043384552\n",
      "善人 0.3143073320388794\n",
      "充ちる 0.31339123845100403\n",
      "近づく 0.31031543016433716\n"
     ]
    }
   ],
   "source": [
    "ret = model.wv.most_similar(positive=['人間']) \n",
    "for item in ret:\n",
    "    print(item[0], item[1])"
   ]
  },
  {
   "cell_type": "code",
   "execution_count": null,
   "metadata": {},
   "outputs": [],
   "source": []
  }
 ],
 "metadata": {
  "kernelspec": {
   "display_name": "Python 3",
   "language": "python",
   "name": "python3"
  },
  "language_info": {
   "codemirror_mode": {
    "name": "ipython",
    "version": 3
   },
   "file_extension": ".py",
   "mimetype": "text/x-python",
   "name": "python",
   "nbconvert_exporter": "python",
   "pygments_lexer": "ipython3",
   "version": "3.7.4"
  }
 },
 "nbformat": 4,
 "nbformat_minor": 4
}
